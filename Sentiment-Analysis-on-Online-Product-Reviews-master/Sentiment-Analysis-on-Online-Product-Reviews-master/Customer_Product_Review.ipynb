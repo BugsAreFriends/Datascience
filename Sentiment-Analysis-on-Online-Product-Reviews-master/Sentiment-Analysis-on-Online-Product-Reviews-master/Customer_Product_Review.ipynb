{
  "cells": [
    {
      "cell_type": "markdown",
      "metadata": {
        "colab_type": "text",
        "id": "cubfLLuwsve7"
      },
      "source": [
        "# Customer Product Review: Sentiment Analysis\n",
        "-----\n",
        "-----"
      ]
    },
    {
      "cell_type": "code",
      "execution_count": null,
      "metadata": {
        "colab": {
          "base_uri": "https://localhost:8080/",
          "height": 228
        },
        "colab_type": "code",
        "id": "PvMxfP8wx7yA",
        "outputId": "42025eba-46d0-49cf-c8c4-0cb6dc9c5bd6"
      },
      "outputs": [],
      "source": [
        "!pip install scikit-plot"
      ]
    },
    {
      "cell_type": "code",
      "execution_count": null,
      "metadata": {
        "colab": {},
        "colab_type": "code",
        "id": "wiGxHGSAtGOl"
      },
      "outputs": [],
      "source": [
        "from sklearn.svm import LinearSVC\n",
        "\n",
        "from sklearn.metrics import accuracy_score,classification_report\n",
        "from sklearn.linear_model import SGDClassifier\n",
        "from scipy.sparse import hstack\n",
        "from sklearn.feature_extraction.text import TfidfVectorizer\n",
        "from sklearn.model_selection import train_test_split\n",
        "\n",
        "import string\n",
        "import pandas as pd\n",
        "import numpy as np\n",
        "import matplotlib.pyplot as plt\n"
      ]
    },
    {
      "cell_type": "code",
      "execution_count": null,
      "metadata": {},
      "outputs": [],
      "source": [
        "from wordcloud import WordCloud, STOPWORDS\n",
        "import seaborn as sns\n"
      ]
    },
    {
      "cell_type": "code",
      "execution_count": null,
      "metadata": {},
      "outputs": [],
      "source": [
        "import scikitplot as skplt\n"
      ]
    },
    {
      "cell_type": "code",
      "execution_count": null,
      "metadata": {
        "colab": {},
        "colab_type": "code",
        "id": "4rqZ5jwvtf8f"
      },
      "outputs": [],
      "source": [
        "import pandas as pd\n",
        "dataset = pd.read_csv(\"245_1_part3.csv\")"
      ]
    },
    {
      "cell_type": "code",
      "execution_count": null,
      "metadata": {
        "colab": {
          "base_uri": "https://localhost:8080/",
          "height": 597
        },
        "colab_type": "code",
        "id": "SuDQa6DTt2Zy",
        "outputId": "bad166df-9ca8-4d11-9e6e-7dfff5103cda"
      },
      "outputs": [],
      "source": [
        "dataset.head()"
      ]
    },
    {
      "cell_type": "code",
      "execution_count": null,
      "metadata": {
        "colab": {
          "base_uri": "https://localhost:8080/",
          "height": 34
        },
        "colab_type": "code",
        "id": "f6HCRFHWt5lT",
        "outputId": "d465fbf6-ca1f-4e47-dd90-42299b5d1386"
      },
      "outputs": [],
      "source": [
        "dataset.shape"
      ]
    },
    {
      "cell_type": "code",
      "execution_count": null,
      "metadata": {
        "colab": {
          "base_uri": "https://localhost:8080/",
          "height": 474
        },
        "colab_type": "code",
        "id": "fus3pMYmuDWJ",
        "outputId": "8f251b2b-5f39-48db-e58b-f30c6dda388d"
      },
      "outputs": [],
      "source": [
        "dataset.isnull().sum()"
      ]
    },
    {
      "cell_type": "markdown",
      "metadata": {
        "colab_type": "text",
        "id": "j3AO2rbwwNWb"
      },
      "source": [
        "## Data Cleaning:\n",
        "------"
      ]
    },
    {
      "cell_type": "markdown",
      "metadata": {
        "colab_type": "text",
        "id": "NXBmcGlKyqBZ"
      },
      "source": [
        "### Selecting Required Columns:"
      ]
    },
    {
      "cell_type": "code",
      "execution_count": null,
      "metadata": {
        "colab": {},
        "colab_type": "code",
        "id": "LCC3vpAHw-Gu"
      },
      "outputs": [],
      "source": [
        "dataset = dataset[['brand','manufacturer','reviews.didPurchase','reviews.rating', 'reviews.text']]"
      ]
    },
    {
      "cell_type": "markdown",
      "metadata": {
        "colab_type": "text",
        "id": "P7gwwDcnzE6R"
      },
      "source": [
        "### Checking Null values:"
      ]
    },
    {
      "cell_type": "code",
      "execution_count": null,
      "metadata": {
        "colab": {
          "base_uri": "https://localhost:8080/",
          "height": 122
        },
        "colab_type": "code",
        "id": "n0G3jEF7xuTa",
        "outputId": "690a017b-47ca-484d-ffae-ec6f26a458b5"
      },
      "outputs": [],
      "source": [
        "dataset.isnull().sum()"
      ]
    },
    {
      "cell_type": "markdown",
      "metadata": {
        "colab_type": "text",
        "id": "y35yM4BmzPXb"
      },
      "source": [
        "### Inputing null values on 'reviews.didpurchase' & Removing all the null values:"
      ]
    },
    {
      "cell_type": "code",
      "execution_count": null,
      "metadata": {
        "colab": {},
        "colab_type": "code",
        "id": "aM_QXQ8Jx1y0"
      },
      "outputs": [],
      "source": [
        "dataset['reviews.didPurchase'] = dataset['reviews.didPurchase'].fillna('Not Avialable') "
      ]
    },
    {
      "cell_type": "code",
      "execution_count": null,
      "metadata": {
        "colab": {},
        "colab_type": "code",
        "id": "4UrsCLBxyJmA"
      },
      "outputs": [],
      "source": [
        "dataset = dataset.dropna()"
      ]
    },
    {
      "cell_type": "markdown",
      "metadata": {
        "colab_type": "text",
        "id": "Q-bqcok8zjAa"
      },
      "source": [
        "## Visualizing The Result:\n",
        "----"
      ]
    },
    {
      "cell_type": "markdown",
      "metadata": {
        "colab_type": "text",
        "id": "rED0vAFCosRV"
      },
      "source": [
        "### Review Ratings Distribution:\n",
        "-----"
      ]
    },
    {
      "cell_type": "code",
      "execution_count": null,
      "metadata": {
        "colab": {},
        "colab_type": "code",
        "id": "KmwlUA58yOZs"
      },
      "outputs": [],
      "source": [
        "data = dataset['reviews.rating'].value_counts()"
      ]
    },
    {
      "cell_type": "code",
      "execution_count": null,
      "metadata": {
        "colab": {
          "base_uri": "https://localhost:8080/",
          "height": 286
        },
        "colab_type": "code",
        "id": "r69iaVz00Nom",
        "outputId": "2b63dbb3-a2e4-4e73-bc0a-e01cea8efc80"
      },
      "outputs": [],
      "source": [
        "sns.barplot(x=data.index, y=data.values)"
      ]
    },
    {
      "cell_type": "markdown",
      "metadata": {
        "colab_type": "text",
        "id": "f10mQCYQ-dMK"
      },
      "source": [
        "**Need to map 1,2 - Unhappy, 3-OK and 4,5 - Happy**"
      ]
    },
    {
      "cell_type": "markdown",
      "metadata": {
        "colab_type": "text",
        "id": "S1mz7ddJoek9"
      },
      "source": [
        "### Fake Reviews Provided by User:\n",
        "-----"
      ]
    },
    {
      "cell_type": "code",
      "execution_count": null,
      "metadata": {
        "colab": {
          "base_uri": "https://localhost:8080/",
          "height": 298
        },
        "colab_type": "code",
        "id": "u_8VcD42ocwY",
        "outputId": "80d012d0-71f5-4c93-faa0-7ef48a0c542c"
      },
      "outputs": [],
      "source": [
        "ax_plt = sns.countplot(dataset['reviews.didPurchase'])\n",
        "ax_plt.set_xlabel(xlabel=\"User's Reviews\",fontsize=12)\n",
        "ax_plt.set_ylabel(ylabel='No. of Reviews',fontsize=12)\n",
        "ax_plt.axes.set_title('Accurate No. of Reviews',fontsize=12)\n",
        "ax_plt.tick_params(labelsize=11)"
      ]
    },
    {
      "cell_type": "markdown",
      "metadata": {
        "colab_type": "text",
        "id": "kzBq84Qips9V"
      },
      "source": [
        "**True reviews are less in number and as you can see poeple who didn't even purchase the product has provided reviews these are all fake reviews which are much higher than those who have purchased and provided the review.**"
      ]
    },
    {
      "cell_type": "markdown",
      "metadata": {
        "colab_type": "text",
        "id": "8LDdlnF_bF4i"
      },
      "source": [
        "### Wordcloud\n",
        "----"
      ]
    },
    {
      "cell_type": "code",
      "execution_count": null,
      "metadata": {
        "colab": {
          "base_uri": "https://localhost:8080/",
          "height": 470
        },
        "colab_type": "code",
        "id": "B3_Ovd3CbMs0",
        "outputId": "fa367015-ca59-452e-e4ad-205336325f7c"
      },
      "outputs": [],
      "source": [
        "stopwords = set(STOPWORDS)\n",
        "def wordcloud(data, title = None):\n",
        "    wordcloud = WordCloud(\n",
        "        background_color='white',\n",
        "        stopwords=stopwords,\n",
        "        max_words=250,\n",
        "        max_font_size=30,\n",
        "        scale=2,\n",
        "        random_state=5 #chosen a andom by flipping a coin; it was heads\n",
        ").generate(str(data))\n",
        "\n",
        "    fig = plt.figure(1, figsize=(15, 15))\n",
        "    plt.axis('off')\n",
        "    if title: \n",
        "        fig.suptitle(title, fontsize=20)\n",
        "        fig.subplots_adjust(top=2.3)\n",
        "    plt.imshow(wordcloud)\n",
        "    plt.show()\n",
        "\n",
        "wordcloud(dataset['reviews.text'])"
      ]
    },
    {
      "cell_type": "markdown",
      "metadata": {
        "colab_type": "text",
        "id": "eMPONh_5rS27"
      },
      "source": [
        "## Feature Transformation:\n",
        "-----"
      ]
    },
    {
      "cell_type": "code",
      "execution_count": null,
      "metadata": {
        "colab": {},
        "colab_type": "code",
        "id": "pSOdnRyF_BO4"
      },
      "outputs": [],
      "source": [
        "data=dataset['reviews.text']\n",
        "train_data=dataset['reviews.text']\n",
        "y_target=dataset['reviews.rating'].map({1:'Unhappy',2:'Unhappy',3:'Ok',4:'Happy',5:'Happy'})"
      ]
    },
    {
      "cell_type": "code",
      "execution_count": null,
      "metadata": {
        "colab": {},
        "colab_type": "code",
        "id": "l-tQNmquGp8w"
      },
      "outputs": [],
      "source": [
        "vectorize_word = TfidfVectorizer(sublinear_tf=True,strip_accents='unicode',analyzer='word',token_pattern=r'\\w{1,}',stop_words='english',ngram_range=(1, 1),max_features=10000)\n",
        "vectorize_word.fit(data)\n",
        "train_features_word = vectorize_word.transform(train_data)"
      ]
    },
    {
      "cell_type": "code",
      "execution_count": null,
      "metadata": {
        "colab": {},
        "colab_type": "code",
        "id": "uBTtkmjVGp_i"
      },
      "outputs": [],
      "source": [
        "vectorize_char = TfidfVectorizer(sublinear_tf=True,strip_accents='unicode',analyzer='char',stop_words='english',ngram_range=(2, 6),max_features=50000)\n",
        "vectorize_char.fit(data)\n",
        "train_features_char = vectorize_char.transform(train_data)\n",
        "train_features = hstack([train_features_char, train_features_word])"
      ]
    },
    {
      "cell_type": "code",
      "execution_count": null,
      "metadata": {
        "colab": {},
        "colab_type": "code",
        "id": "D0P9SiMtHrM_"
      },
      "outputs": [],
      "source": [
        "X_train, X_test, y_train, y_test = train_test_split(train_features, y_target,test_size=0.3,random_state=101,shuffle=True)"
      ]
    },
    {
      "cell_type": "markdown",
      "metadata": {
        "colab_type": "text",
        "id": "1CYV0YQPng0u"
      },
      "source": [
        "## SVC Model:\n",
        "----"
      ]
    },
    {
      "cell_type": "code",
      "execution_count": null,
      "metadata": {
        "colab": {},
        "colab_type": "code",
        "id": "W4H-4xNZUO_a"
      },
      "outputs": [],
      "source": [
        "lsvm = LinearSVC(class_weight='balanced')\n",
        "l = lsvm.fit(X_train,y_train)"
      ]
    },
    {
      "cell_type": "markdown",
      "metadata": {
        "colab_type": "text",
        "id": "YIfzlzunb9kY"
      },
      "source": [
        "### Linear SVC Metric Over Training:"
      ]
    },
    {
      "cell_type": "code",
      "execution_count": null,
      "metadata": {
        "colab": {},
        "colab_type": "code",
        "id": "YZdT2-BrGfqp"
      },
      "outputs": [],
      "source": [
        "pred_train = l.predict(X_train)"
      ]
    },
    {
      "cell_type": "code",
      "execution_count": null,
      "metadata": {
        "colab": {
          "base_uri": "https://localhost:8080/",
          "height": 210
        },
        "colab_type": "code",
        "id": "gkHFlXVSZZM5",
        "outputId": "52b75c8b-a33e-427f-a4a2-49c5f36b55b3"
      },
      "outputs": [],
      "source": [
        "print(\"Accuracy Train: {}\".format(accuracy_score(y_train,pred_train)))\n",
        "print(classification_report(y_train,pred_train))"
      ]
    },
    {
      "cell_type": "markdown",
      "metadata": {
        "colab_type": "text",
        "id": "uLVwtCa0cCsw"
      },
      "source": [
        "### Linear SVC Metric Over Test:"
      ]
    },
    {
      "cell_type": "code",
      "execution_count": null,
      "metadata": {
        "colab": {},
        "colab_type": "code",
        "id": "er2ljMrTW74S"
      },
      "outputs": [],
      "source": [
        "pred_test=l.predict(X_test)"
      ]
    },
    {
      "cell_type": "code",
      "execution_count": null,
      "metadata": {
        "colab": {
          "base_uri": "https://localhost:8080/",
          "height": 210
        },
        "colab_type": "code",
        "id": "5rnU3qWkUVI5",
        "outputId": "b775098f-7409-4775-9d0e-96a7fb6b1d2c"
      },
      "outputs": [],
      "source": [
        "print(\"Accuracy Test : {}\".format(accuracy_score(y_test,pred_test)))\n",
        "print(classification_report(y_test,pred_test))"
      ]
    },
    {
      "cell_type": "code",
      "execution_count": null,
      "metadata": {
        "colab": {
          "base_uri": "https://localhost:8080/",
          "height": 295
        },
        "colab_type": "code",
        "id": "UAdo1rJ7yEFT",
        "outputId": "b7a886d1-2b93-4d6f-f1bf-1c33497480ea"
      },
      "outputs": [],
      "source": [
        "skplt.metrics.plot_confusion_matrix(y_test, pred_test, normalize=True)\n",
        "plt.show()"
      ]
    },
    {
      "cell_type": "markdown",
      "metadata": {
        "colab_type": "text",
        "id": "GQC-tyQenoiQ"
      },
      "source": [
        "## SGD Classifier:\n",
        "----"
      ]
    },
    {
      "cell_type": "code",
      "execution_count": null,
      "metadata": {
        "colab": {
          "base_uri": "https://localhost:8080/",
          "height": 178
        },
        "colab_type": "code",
        "id": "Zn9x9VARbeuq",
        "outputId": "ade046c5-972a-45dd-9ee2-cddc16fb952a"
      },
      "outputs": [],
      "source": [
        "svm1=SGDClassifier(class_weight='balanced',n_jobs=-1,n_iter=300)\n",
        "svm1.fit(X_train,y_train)"
      ]
    },
    {
      "cell_type": "markdown",
      "metadata": {
        "colab_type": "text",
        "id": "0KNKSklebqpw"
      },
      "source": [
        "### SGD Metric Over Training:"
      ]
    },
    {
      "cell_type": "code",
      "execution_count": null,
      "metadata": {
        "colab": {
          "base_uri": "https://localhost:8080/",
          "height": 210
        },
        "colab_type": "code",
        "id": "kyomK1QiGTH6",
        "outputId": "3708e42d-5092-4b7c-d54d-ddfd5df13bf6"
      },
      "outputs": [],
      "source": [
        "pred_train_sgd=svm1.predict(X_train)\n",
        "print(\"Accuracy Train: {}\".format(accuracy_score(y_train,pred_train_sgd)))\n",
        "print(classification_report(y_train,pred_train_sgd))"
      ]
    },
    {
      "cell_type": "markdown",
      "metadata": {
        "colab_type": "text",
        "id": "rEMT5C7Nb0KY"
      },
      "source": [
        "### SGD Metric Over Test:"
      ]
    },
    {
      "cell_type": "code",
      "execution_count": null,
      "metadata": {
        "colab": {
          "base_uri": "https://localhost:8080/",
          "height": 210
        },
        "colab_type": "code",
        "id": "r4nXlRCvbexb",
        "outputId": "0e3b45eb-6a3a-464a-f9a4-2f80c9ebe47c"
      },
      "outputs": [],
      "source": [
        "pred_test_sgd=svm1.predict(X_test)\n",
        "print(\"Accuracy Test: {}\".format(accuracy_score(y_test,pred_test_sgd)))\n",
        "print(classification_report(y_test,pred_test_sgd))"
      ]
    },
    {
      "cell_type": "code",
      "execution_count": null,
      "metadata": {
        "colab": {
          "base_uri": "https://localhost:8080/",
          "height": 295
        },
        "colab_type": "code",
        "id": "8dLYelrzmrrM",
        "outputId": "39b52544-b1d7-49e4-ed06-a0f388c4061a"
      },
      "outputs": [],
      "source": [
        "skplt.metrics.plot_confusion_matrix(y_test, pred_test_sgd, normalize=True)\n",
        "plt.show()"
      ]
    },
    {
      "cell_type": "code",
      "execution_count": 84,
      "metadata": {},
      "outputs": [
        {
          "name": "stdout",
          "output_type": "stream",
          "text": [
            "Defaulting to user installation because normal site-packages is not writeable\n",
            "Requirement already satisfied: scikit-plot in c:\\users\\udhaya\\appdata\\local\\packages\\pythonsoftwarefoundation.python.3.13_qbz5n2kfra8p0\\localcache\\local-packages\\python313\\site-packages (0.3.7)\n",
            "Requirement already satisfied: matplotlib>=1.4.0 in c:\\users\\udhaya\\appdata\\local\\packages\\pythonsoftwarefoundation.python.3.13_qbz5n2kfra8p0\\localcache\\local-packages\\python313\\site-packages (from scikit-plot) (3.10.3)\n",
            "Requirement already satisfied: scikit-learn>=0.18 in c:\\users\\udhaya\\appdata\\local\\packages\\pythonsoftwarefoundation.python.3.13_qbz5n2kfra8p0\\localcache\\local-packages\\python313\\site-packages (from scikit-plot) (1.7.1)\n",
            "Requirement already satisfied: scipy>=0.9 in c:\\users\\udhaya\\appdata\\local\\packages\\pythonsoftwarefoundation.python.3.13_qbz5n2kfra8p0\\localcache\\local-packages\\python313\\site-packages (from scikit-plot) (1.16.1)\n",
            "Requirement already satisfied: joblib>=0.10 in c:\\users\\udhaya\\appdata\\local\\packages\\pythonsoftwarefoundation.python.3.13_qbz5n2kfra8p0\\localcache\\local-packages\\python313\\site-packages (from scikit-plot) (1.5.1)\n",
            "Requirement already satisfied: contourpy>=1.0.1 in c:\\users\\udhaya\\appdata\\local\\packages\\pythonsoftwarefoundation.python.3.13_qbz5n2kfra8p0\\localcache\\local-packages\\python313\\site-packages (from matplotlib>=1.4.0->scikit-plot) (1.3.2)\n",
            "Requirement already satisfied: cycler>=0.10 in c:\\users\\udhaya\\appdata\\local\\packages\\pythonsoftwarefoundation.python.3.13_qbz5n2kfra8p0\\localcache\\local-packages\\python313\\site-packages (from matplotlib>=1.4.0->scikit-plot) (0.12.1)\n",
            "Requirement already satisfied: fonttools>=4.22.0 in c:\\users\\udhaya\\appdata\\local\\packages\\pythonsoftwarefoundation.python.3.13_qbz5n2kfra8p0\\localcache\\local-packages\\python313\\site-packages (from matplotlib>=1.4.0->scikit-plot) (4.58.5)\n",
            "Requirement already satisfied: kiwisolver>=1.3.1 in c:\\users\\udhaya\\appdata\\local\\packages\\pythonsoftwarefoundation.python.3.13_qbz5n2kfra8p0\\localcache\\local-packages\\python313\\site-packages (from matplotlib>=1.4.0->scikit-plot) (1.4.8)\n",
            "Requirement already satisfied: numpy>=1.23 in c:\\users\\udhaya\\appdata\\local\\packages\\pythonsoftwarefoundation.python.3.13_qbz5n2kfra8p0\\localcache\\local-packages\\python313\\site-packages (from matplotlib>=1.4.0->scikit-plot) (2.2.6)\n",
            "Requirement already satisfied: packaging>=20.0 in c:\\users\\udhaya\\appdata\\local\\packages\\pythonsoftwarefoundation.python.3.13_qbz5n2kfra8p0\\localcache\\local-packages\\python313\\site-packages (from matplotlib>=1.4.0->scikit-plot) (25.0)\n",
            "Requirement already satisfied: pillow>=8 in c:\\users\\udhaya\\appdata\\local\\packages\\pythonsoftwarefoundation.python.3.13_qbz5n2kfra8p0\\localcache\\local-packages\\python313\\site-packages (from matplotlib>=1.4.0->scikit-plot) (11.3.0)\n",
            "Requirement already satisfied: pyparsing>=2.3.1 in c:\\users\\udhaya\\appdata\\local\\packages\\pythonsoftwarefoundation.python.3.13_qbz5n2kfra8p0\\localcache\\local-packages\\python313\\site-packages (from matplotlib>=1.4.0->scikit-plot) (3.2.3)\n",
            "Requirement already satisfied: python-dateutil>=2.7 in c:\\users\\udhaya\\appdata\\local\\packages\\pythonsoftwarefoundation.python.3.13_qbz5n2kfra8p0\\localcache\\local-packages\\python313\\site-packages (from matplotlib>=1.4.0->scikit-plot) (2.9.0.post0)\n",
            "Requirement already satisfied: six>=1.5 in c:\\users\\udhaya\\appdata\\local\\packages\\pythonsoftwarefoundation.python.3.13_qbz5n2kfra8p0\\localcache\\local-packages\\python313\\site-packages (from python-dateutil>=2.7->matplotlib>=1.4.0->scikit-plot) (1.17.0)\n",
            "Requirement already satisfied: threadpoolctl>=3.1.0 in c:\\users\\udhaya\\appdata\\local\\packages\\pythonsoftwarefoundation.python.3.13_qbz5n2kfra8p0\\localcache\\local-packages\\python313\\site-packages (from scikit-learn>=0.18->scikit-plot) (3.6.0)\n"
          ]
        },
        {
          "ename": "ImportError",
          "evalue": "cannot import name 'interp' from 'scipy' (C:\\Users\\Udhaya\\AppData\\Local\\Packages\\PythonSoftwareFoundation.Python.3.13_qbz5n2kfra8p0\\LocalCache\\local-packages\\Python313\\site-packages\\scipy\\__init__.py)",
          "output_type": "error",
          "traceback": [
            "\u001b[31m---------------------------------------------------------------------------\u001b[39m",
            "\u001b[31mImportError\u001b[39m                               Traceback (most recent call last)",
            "\u001b[36mCell\u001b[39m\u001b[36m \u001b[39m\u001b[32mIn[84]\u001b[39m\u001b[32m, line 4\u001b[39m\n\u001b[32m      1\u001b[39m get_ipython().system(\u001b[33m'\u001b[39m\u001b[33m pip install scikit-plot\u001b[39m\u001b[33m'\u001b[39m)\n\u001b[32m----> \u001b[39m\u001b[32m4\u001b[39m \u001b[38;5;28;01mimport\u001b[39;00m\u001b[38;5;250m \u001b[39m\u001b[34;01mscikitplot\u001b[39;00m\u001b[38;5;250m \u001b[39m\u001b[38;5;28;01mas\u001b[39;00m\u001b[38;5;250m \u001b[39m\u001b[34;01mskplt\u001b[39;00m\n",
            "\u001b[36mFile \u001b[39m\u001b[32m~\\AppData\\Local\\Packages\\PythonSoftwareFoundation.Python.3.13_qbz5n2kfra8p0\\LocalCache\\local-packages\\Python313\\site-packages\\scikitplot\\__init__.py:2\u001b[39m\n\u001b[32m      1\u001b[39m \u001b[38;5;28;01mfrom\u001b[39;00m\u001b[38;5;250m \u001b[39m\u001b[34;01m__future__\u001b[39;00m\u001b[38;5;250m \u001b[39m\u001b[38;5;28;01mimport\u001b[39;00m absolute_import, division, print_function, unicode_literals\n\u001b[32m----> \u001b[39m\u001b[32m2\u001b[39m \u001b[38;5;28;01mfrom\u001b[39;00m\u001b[38;5;250m \u001b[39m\u001b[34;01m.\u001b[39;00m\u001b[38;5;250m \u001b[39m\u001b[38;5;28;01mimport\u001b[39;00m metrics, cluster, decomposition, estimators\n\u001b[32m      3\u001b[39m __version__ = \u001b[33m'\u001b[39m\u001b[33m0.3.7\u001b[39m\u001b[33m'\u001b[39m\n\u001b[32m      6\u001b[39m \u001b[38;5;28;01mfrom\u001b[39;00m\u001b[38;5;250m \u001b[39m\u001b[34;01mscikitplot\u001b[39;00m\u001b[34;01m.\u001b[39;00m\u001b[34;01mclassifiers\u001b[39;00m\u001b[38;5;250m \u001b[39m\u001b[38;5;28;01mimport\u001b[39;00m classifier_factory\n",
            "\u001b[36mFile \u001b[39m\u001b[32m~\\AppData\\Local\\Packages\\PythonSoftwareFoundation.Python.3.13_qbz5n2kfra8p0\\LocalCache\\local-packages\\Python313\\site-packages\\scikitplot\\metrics.py:27\u001b[39m\n\u001b[32m     24\u001b[39m \u001b[38;5;28;01mfrom\u001b[39;00m\u001b[38;5;250m \u001b[39m\u001b[34;01msklearn\u001b[39;00m\u001b[34;01m.\u001b[39;00m\u001b[34;01mcalibration\u001b[39;00m\u001b[38;5;250m \u001b[39m\u001b[38;5;28;01mimport\u001b[39;00m calibration_curve\n\u001b[32m     25\u001b[39m \u001b[38;5;28;01mfrom\u001b[39;00m\u001b[38;5;250m \u001b[39m\u001b[34;01msklearn\u001b[39;00m\u001b[34;01m.\u001b[39;00m\u001b[34;01mutils\u001b[39;00m\u001b[38;5;250m \u001b[39m\u001b[38;5;28;01mimport\u001b[39;00m deprecated\n\u001b[32m---> \u001b[39m\u001b[32m27\u001b[39m \u001b[38;5;28;01mfrom\u001b[39;00m\u001b[38;5;250m \u001b[39m\u001b[34;01mscipy\u001b[39;00m\u001b[38;5;250m \u001b[39m\u001b[38;5;28;01mimport\u001b[39;00m interp\n\u001b[32m     29\u001b[39m \u001b[38;5;28;01mfrom\u001b[39;00m\u001b[38;5;250m \u001b[39m\u001b[34;01mscikitplot\u001b[39;00m\u001b[34;01m.\u001b[39;00m\u001b[34;01mhelpers\u001b[39;00m\u001b[38;5;250m \u001b[39m\u001b[38;5;28;01mimport\u001b[39;00m binary_ks_curve, validate_labels\n\u001b[32m     30\u001b[39m \u001b[38;5;28;01mfrom\u001b[39;00m\u001b[38;5;250m \u001b[39m\u001b[34;01mscikitplot\u001b[39;00m\u001b[34;01m.\u001b[39;00m\u001b[34;01mhelpers\u001b[39;00m\u001b[38;5;250m \u001b[39m\u001b[38;5;28;01mimport\u001b[39;00m cumulative_gain_curve\n",
            "\u001b[31mImportError\u001b[39m: cannot import name 'interp' from 'scipy' (C:\\Users\\Udhaya\\AppData\\Local\\Packages\\PythonSoftwareFoundation.Python.3.13_qbz5n2kfra8p0\\LocalCache\\local-packages\\Python313\\site-packages\\scipy\\__init__.py)"
          ]
        }
      ],
      "source": [
        "! pip install scikit-plot\n",
        "\n",
        "\n",
        "import scikitplot as skplt\n"
      ]
    },
    {
      "cell_type": "code",
      "execution_count": 83,
      "metadata": {},
      "outputs": [],
      "source": [
        "from sklearn.linear_model import SGDClassifier\n",
        "from sklearn.metrics import confusion_matrix\n",
        "import seaborn as sns\n",
        "import matplotlib.pyplot as plt\n"
      ]
    }
  ],
  "metadata": {
    "accelerator": "GPU",
    "colab": {
      "collapsed_sections": [],
      "name": "Customer Product Review.ipynb",
      "provenance": [],
      "version": "0.3.2"
    },
    "kernelspec": {
      "display_name": "Python 3",
      "name": "python3"
    },
    "language_info": {
      "codemirror_mode": {
        "name": "ipython",
        "version": 3
      },
      "file_extension": ".py",
      "mimetype": "text/x-python",
      "name": "python",
      "nbconvert_exporter": "python",
      "pygments_lexer": "ipython3",
      "version": "3.13.7"
    }
  },
  "nbformat": 4,
  "nbformat_minor": 0
}
